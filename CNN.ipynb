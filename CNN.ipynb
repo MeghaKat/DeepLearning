{
 "cells": [
  {
   "cell_type": "code",
   "execution_count": 1,
   "metadata": {
    "colab": {},
    "colab_type": "code",
    "id": "dtcBQvaUCfTl"
   },
   "outputs": [
    {
     "ename": "ModuleNotFoundError",
     "evalue": "No module named 'google.colab'",
     "output_type": "error",
     "traceback": [
      "\u001b[1;31m---------------------------------------------------------------------------\u001b[0m",
      "\u001b[1;31mModuleNotFoundError\u001b[0m                       Traceback (most recent call last)",
      "\u001b[1;32m<ipython-input-1-f045e1081d89>\u001b[0m in \u001b[0;36m<module>\u001b[1;34m\u001b[0m\n\u001b[1;32m----> 1\u001b[1;33m \u001b[1;32mfrom\u001b[0m \u001b[0mgoogle\u001b[0m\u001b[1;33m.\u001b[0m\u001b[0mcolab\u001b[0m \u001b[1;32mimport\u001b[0m \u001b[0mdrive\u001b[0m\u001b[1;33m\u001b[0m\u001b[1;33m\u001b[0m\u001b[0m\n\u001b[0m",
      "\u001b[1;31mModuleNotFoundError\u001b[0m: No module named 'google.colab'"
     ]
    }
   ],
   "source": [
    "from google.colab import drive"
   ]
  },
  {
   "cell_type": "code",
   "execution_count": 0,
   "metadata": {
    "colab": {},
    "colab_type": "code",
    "id": "8Lf6uO-ZDnbs"
   },
   "outputs": [],
   "source": [
    "drive.mount('/content/drive')"
   ]
  },
  {
   "cell_type": "markdown",
   "metadata": {
    "colab_type": "text",
    "id": "LLUvQKcXJYx8"
   },
   "source": [
    "## **Importing required Libraries**"
   ]
  },
  {
   "cell_type": "code",
   "execution_count": 0,
   "metadata": {
    "colab": {},
    "colab_type": "code",
    "id": "J8YlxEh4Dt9O"
   },
   "outputs": [],
   "source": [
    "# importing the libraries\n",
    "\n",
    "import pandas as pd\n",
    "import numpy as np\n",
    "import shutil,os\n"
   ]
  },
  {
   "cell_type": "code",
   "execution_count": 0,
   "metadata": {
    "colab": {},
    "colab_type": "code",
    "id": "GL3QwJ9qDmP5"
   },
   "outputs": [],
   "source": [
    "\n",
    "# for reading and displaying images\n",
    "\n",
    "from skimage.io import imread\n",
    "import matplotlib.pyplot as plt\n",
    "%matplotlib inline\n",
    "\n",
    "# for evaluating the model\n",
    "from sklearn.metrics import accuracy_score\n",
    "from tqdm import tqdm\n",
    "\n",
    "# PyTorch libraries and modules\n",
    "import torch\n",
    "from torch.autograd import Variable\n",
    "from torch.nn import Linear, ReLU, CrossEntropyLoss, Sequential, Conv2d, MaxPool2d, Module, Softmax, BatchNorm2d, Dropout\n",
    "from torch.optim import Adam, SGD\n"
   ]
  },
  {
   "cell_type": "markdown",
   "metadata": {
    "colab_type": "text",
    "id": "klasb0rIJlNv"
   },
   "source": [
    "## **Data Engineering**"
   ]
  },
  {
   "cell_type": "code",
   "execution_count": 0,
   "metadata": {
    "colab": {},
    "colab_type": "code",
    "id": "56K5ya0YECcI"
   },
   "outputs": [],
   "source": [
    "# loading dataset\n",
    "train = pd.read_csv('/content/drive/My Drive/Data/TrainSet.csv', index_col='id')\n",
    "val= pd.read_csv('/content/drive/My Drive/Data/validationSet.csv',index_col='id')\n",
    "# sample_submission = pd.read_csv('sample_submission_I5njJSF.csv')\n",
    "train.head()"
   ]
  },
  {
   "cell_type": "code",
   "execution_count": 0,
   "metadata": {
    "colab": {},
    "colab_type": "code",
    "id": "6Ouh2u3dj6Nt"
   },
   "outputs": [],
   "source": [
    "#Reshaping train images into 64x64 and creating the train_target\n",
    "import PIL\n",
    "from PIL import Image\n",
    "train_target=[]\n",
    "\n",
    "train_img_directory='/content/drive/My Drive/Data/Train_images/'\n",
    "train_new_img_dir='/content/drive/My Drive/Data/Train_new_images/'\n",
    "for subdir,dirs,files in os.walk(train_img_directory):\n",
    "    for file in files:\n",
    "      im= Image.open(subdir+file)\n",
    "      im=im.resize((64,64),PIL.Image.ANTIALIAS)\n",
    "      im.save(train_new_img_dir+file)\n",
    "\n",
    "for subdir,dirs,files in os.walk(train_new_img_dir):\n",
    "    for file in files:\n",
    "      # print(file)\n",
    "      train_target.append(train.loc[file])\n",
    " "
   ]
  },
  {
   "cell_type": "code",
   "execution_count": 0,
   "metadata": {
    "colab": {},
    "colab_type": "code",
    "id": "oBAPIijIvdh_"
   },
   "outputs": [],
   "source": [
    "#Reshaping validation images into 64x64 and creating the validation_target\n",
    "val_target=[]\n",
    "\n",
    "val_img_directory='/content/drive/My Drive/Data/Val_images/'\n",
    "val_new_img_dir='/content/drive/My Drive/Data/Val_new_images/'\n",
    "for subdir,dirs,files in os.walk(val_img_directory):\n",
    "    for file in files:\n",
    "      im= Image.open(subdir+file)\n",
    "      im=im.resize((64,64),PIL.Image.ANTIALIAS)\n",
    "      im.save(val_new_img_dir+file)\n",
    "\n",
    "for subdir,dirs,files in os.walk(val_new_img_dir):\n",
    "    for file in files:\n",
    "      # print(file)\n",
    "     val_target.append(val.loc[file])\n"
   ]
  },
  {
   "cell_type": "code",
   "execution_count": 0,
   "metadata": {
    "colab": {
     "base_uri": "https://localhost:8080/",
     "height": 35
    },
    "colab_type": "code",
    "id": "6otzXmX8Gce2",
    "outputId": "bb5017f6-17d5-433f-ebaa-88b44d2e4870"
   },
   "outputs": [
    {
     "data": {
      "text/plain": [
       "(188, 1)"
      ]
     },
     "execution_count": 110,
     "metadata": {
      "tags": []
     },
     "output_type": "execute_result"
    }
   ],
   "source": [
    "# loading training images\n",
    "train_img = []\n",
    "train_directory='/content/drive/My Drive/Data/Train_new_images/'\n",
    "for subdir,dirs,files in os.walk(train_directory):\n",
    "    for file in files:\n",
    "        img = imread(subdir+file, as_gray=True)\n",
    "        # normalizing the pixel values\n",
    "        img /= 255.0\n",
    "        # converting the type of pixel to float 32\n",
    "        img = img.astype('float32')\n",
    "        # appending the image into the list\n",
    "        train_img.append(img)\n",
    "\n",
    "# converting the list to numpy array\n",
    "train_x = np.array(train_img)\n",
    "\n",
    "# defining the target\n",
    "train_y = np.array(train_target)\n",
    "\n",
    "train_x.shape\n",
    "train_y.shape\n"
   ]
  },
  {
   "cell_type": "code",
   "execution_count": 0,
   "metadata": {
    "colab": {},
    "colab_type": "code",
    "id": "0brxBU3aLZFQ"
   },
   "outputs": [],
   "source": [
    "train_x.shape"
   ]
  },
  {
   "cell_type": "markdown",
   "metadata": {
    "colab_type": "text",
    "id": "lj5aK-zJjSqp"
   },
   "source": []
  },
  {
   "cell_type": "code",
   "execution_count": 0,
   "metadata": {
    "colab": {
     "base_uri": "https://localhost:8080/",
     "height": 35
    },
    "colab_type": "code",
    "id": "utapuIjeJYp4",
    "outputId": "07992070-54d4-4a94-8b68-a44cb4c34b99"
   },
   "outputs": [
    {
     "data": {
      "text/plain": [
       "(47, 64, 64)"
      ]
     },
     "execution_count": 111,
     "metadata": {
      "tags": []
     },
     "output_type": "execute_result"
    }
   ],
   "source": [
    "# loading Validation images\n",
    "val_img = []\n",
    "val_img_directory='/content/drive/My Drive/Data/Val_new_images/'\n",
    "for subdir,dirs,files in os.walk(val_img_directory):\n",
    "    for file in files:\n",
    "        img = imread(subdir+file, as_gray=True)\n",
    "        # normalizing the pixel values\n",
    "        img /= 255.0\n",
    "        # converting the type of pixel to float 32\n",
    "        img = img.astype('float32')\n",
    "        # appending the image into the list\n",
    "        val_img.append(img)\n",
    "\n",
    "# converting the list to numpy array\n",
    "val_x = np.array(val_img)\n",
    "\n",
    "# defining the target\n",
    "val_y = np.array(val_target)\n",
    "\n",
    "val_x.shape"
   ]
  },
  {
   "cell_type": "code",
   "execution_count": 0,
   "metadata": {
    "colab": {},
    "colab_type": "code",
    "id": "xFpvAGdYJEDX"
   },
   "outputs": [],
   "source": [
    "# visualizing images\n",
    "\n",
    "i = 0\n",
    "\n",
    "plt.figure(figsize=(10,10))\n",
    "plt.subplot(221), plt.imshow(train_x[i], cmap='gray')\n",
    "plt.subplot(222), plt.imshow(train_x[i+25], cmap='gray')\n",
    "plt.subplot(223), plt.imshow(train_x[i+50], cmap='gray')\n",
    "plt.subplot(224), plt.imshow(train_x[i+75], cmap='gray')"
   ]
  },
  {
   "cell_type": "markdown",
   "metadata": {
    "colab_type": "text",
    "id": "rHSchdhJJzw7"
   },
   "source": [
    "### **Converting Images to Torch Format**"
   ]
  },
  {
   "cell_type": "code",
   "execution_count": 0,
   "metadata": {
    "colab": {
     "base_uri": "https://localhost:8080/",
     "height": 35
    },
    "colab_type": "code",
    "id": "W6Etr6K2J3LW",
    "outputId": "38360e34-6ff0-46e6-affa-a291e824c173"
   },
   "outputs": [
    {
     "data": {
      "text/plain": [
       "(torch.Size([47, 1, 64, 64]), torch.Size([47, 1]))"
      ]
     },
     "execution_count": 112,
     "metadata": {
      "tags": []
     },
     "output_type": "execute_result"
    }
   ],
   "source": [
    "# # converting training images into torch format\n",
    "train_x = train_x.reshape(188, 1, 64, 64)\n",
    "train_x  = torch.from_numpy(train_x)\n",
    "\n",
    "# converting the target into torch format\n",
    "train_y = train_y.astype(int);\n",
    "train_y = torch.from_numpy(train_y)\n",
    "\n",
    "# shape of training data\n",
    "train_x.shape, train_y.shape\n",
    "\n",
    "# converting validation images into torch format\n",
    "val_x = val_x.reshape(47, 1, 64, 64)\n",
    "val_x  = torch.from_numpy(val_x)\n",
    "\n",
    "# converting the target into torch format\n",
    "val_y = val_y.astype(int);\n",
    "val_y = torch.from_numpy(val_y)\n",
    "\n",
    "# shape of validation data\n",
    "val_x.shape, val_y.shape\n"
   ]
  },
  {
   "cell_type": "code",
   "execution_count": 0,
   "metadata": {
    "colab": {},
    "colab_type": "code",
    "id": "wJQFXrH5YUXc"
   },
   "outputs": [],
   "source": [
    "(train_x.shape, train_y.shape), (val_x.shape, val_y.shape)"
   ]
  },
  {
   "cell_type": "markdown",
   "metadata": {
    "colab_type": "text",
    "id": "2Fa-UQocI8fL"
   },
   "source": [
    "## **Defining Convolution Neural Network**"
   ]
  },
  {
   "cell_type": "code",
   "execution_count": 0,
   "metadata": {
    "colab": {},
    "colab_type": "code",
    "id": "8ONd1sAUHD-I"
   },
   "outputs": [],
   "source": [
    "import torch.nn as nn\n",
    "import torch.nn.functional as F\n",
    "\n",
    "class Net(Module):\n",
    "    def __init__(self):\n",
    "      super(Net, self).__init__()\n",
    "      #we define convolutional layers \n",
    "      self.conv1 = nn.Conv2d(in_channels = 1, out_channels = 32, kernel_size = 3, stride= 1, padding = 1)\n",
    "      self.bn1 = nn.BatchNorm2d(32)\n",
    "      self.conv2 = nn.Conv2d(in_channels = 32, out_channels = 64, kernel_size = 3, stride = 1, padding = 1)\n",
    "      self.bn2 = nn.BatchNorm2d(64)\n",
    "      self.conv3 = nn.Conv2d(in_channels = 64, out_channels = 128, kernel_size = 3, stride=1, padding = 1)\n",
    "      self.bn3 = nn.BatchNorm2d(128)\n",
    "\n",
    "      #2 fully connected layers to transform the output of the convolution layers to the final output\n",
    "      self.fc1 = nn.Linear(in_features = 8*8*128, out_features = 128)\n",
    "      self.fcbn1 = nn.BatchNorm1d(128)\n",
    "      self.fc2 = nn.Linear(in_features = 128, out_features = 2)       \n",
    "      self.dropout_rate = 0.2\n",
    "\n",
    "    def forward(self, s):\n",
    "      #we apply the convolution layers, followed by batch normalisation, \n",
    "      #maxpool and relu x 3\n",
    "      s = self.bn1(self.conv1(s))        # batch_size x 32 x 64 x 64\n",
    "      s = F.relu(F.max_pool2d(s, 2))     # batch_size x 32 x 32 x 32\n",
    "      s = self.bn2(self.conv2(s))        # batch_size x 64 x 32 x 32\n",
    "      s = F.relu(F.max_pool2d(s, 2))     # batch_size x 64 x 16 x 16\n",
    "      s = self.bn3(self.conv3(s))        # batch_size x 128 x 16 x 16\n",
    "      s = F.relu(F.max_pool2d(s, 2))     # batch_size x 128 x 8 x 8\n",
    "\n",
    "      #flatten the output for each image\n",
    "      s = s.view(-1, 8*8*128)  # batch_size x 8*8*128\n",
    "\n",
    "      #apply 2 fully connected layers with dropout\n",
    "      s = F.dropout(F.relu(self.fcbn1(self.fc1(s))), \n",
    "      p=self.dropout_rate, training=self.training)    # batch_size x 128\n",
    "      s = self.fc2(s)                                     # batch_size x 6\n",
    "      return F.log_softmax(s, dim=1)"
   ]
  },
  {
   "cell_type": "markdown",
   "metadata": {
    "colab_type": "text",
    "id": "lE-6ENh4KCBg"
   },
   "source": [
    "### **Creating CNN model**"
   ]
  },
  {
   "cell_type": "code",
   "execution_count": 0,
   "metadata": {
    "colab": {
     "base_uri": "https://localhost:8080/",
     "height": 208
    },
    "colab_type": "code",
    "id": "YGDbKtx8T2Vo",
    "outputId": "3f6aeaf4-f37f-4a24-aefe-17d455a60748"
   },
   "outputs": [
    {
     "name": "stdout",
     "output_type": "stream",
     "text": [
      "Net(\n",
      "  (conv1): Conv2d(1, 32, kernel_size=(3, 3), stride=(1, 1), padding=(1, 1))\n",
      "  (bn1): BatchNorm2d(32, eps=1e-05, momentum=0.1, affine=True, track_running_stats=True)\n",
      "  (conv2): Conv2d(32, 64, kernel_size=(3, 3), stride=(1, 1), padding=(1, 1))\n",
      "  (bn2): BatchNorm2d(64, eps=1e-05, momentum=0.1, affine=True, track_running_stats=True)\n",
      "  (conv3): Conv2d(64, 128, kernel_size=(3, 3), stride=(1, 1), padding=(1, 1))\n",
      "  (bn3): BatchNorm2d(128, eps=1e-05, momentum=0.1, affine=True, track_running_stats=True)\n",
      "  (fc1): Linear(in_features=8192, out_features=128, bias=True)\n",
      "  (fcbn1): BatchNorm1d(128, eps=1e-05, momentum=0.1, affine=True, track_running_stats=True)\n",
      "  (fc2): Linear(in_features=128, out_features=2, bias=True)\n",
      ")\n"
     ]
    }
   ],
   "source": [
    "from torch.optim import Adam\n",
    "# Check if gpu support is available\n",
    "cuda_avail = torch.cuda.is_available()\n",
    "\n",
    "# Create model, optimizer and loss function\n",
    "model = Net()\n",
    "\n",
    "#if cuda is available, move the model to the GPU\n",
    "if cuda_avail:\n",
    "    model.cuda()\n",
    "\n",
    "\n",
    "#Define the optimizer and loss function\n",
    "optimizer = Adam(model.parameters(), lr=0.001)\n",
    "loss_fn = nn.CrossEntropyLoss()\n",
    "print(model)"
   ]
  },
  {
   "cell_type": "code",
   "execution_count": 0,
   "metadata": {
    "colab": {},
    "colab_type": "code",
    "id": "0CG7KRDgLZWH"
   },
   "outputs": [],
   "source": [
    "def train(epoch):\n",
    "\n",
    "    model.train()\n",
    "    tr_loss = 0\n",
    "    # getting the training set\n",
    "    x_train, y_train = Variable(train_x), Variable(train_y)\n",
    "\n",
    "    # getting the validation set\n",
    "    x_val, y_val = Variable(val_x), Variable(val_y)\n",
    "\n",
    "    # converting the data into GPU format\n",
    "    if torch.cuda.is_available():\n",
    "        x_train = x_train.cuda()\n",
    "        y_train = y_train.cuda()\n",
    "        x_val = x_val.cuda()\n",
    "        y_val = y_val.cuda()\n",
    "\n",
    "    # clearing the Gradients of the model parameters\n",
    "    optimizer.zero_grad()\n",
    "\n",
    "    # prediction for training and validation set\n",
    "    output_train = model(x_train)\n",
    "    output_val = model(x_val)\n",
    "\n",
    "    # computing the training and validation loss\n",
    "    loss_train = loss_fn(output_train, torch.max(y_train, 1)[1])\n",
    "    loss_val = loss_fn(output_val, torch.max(y_val, 1)[1])\n",
    "    # train_losses.append(loss_train)\n",
    "    # val_losses.append(loss_val)\n",
    "\n",
    "   # computing the updated weights of all the model parameters\n",
    "    loss_train.backward()\n",
    "    optimizer.step()\n",
    "    tr_loss = loss_train.item()\n",
    "    if epoch%2 == 0:\n",
    "        # printing the validation loss\n",
    "        print('Epoch : ',epoch+1, '\\t', 'loss :', loss_train)\n",
    "    "
   ]
  },
  {
   "cell_type": "code",
   "execution_count": 0,
   "metadata": {
    "colab": {
     "base_uri": "https://localhost:8080/",
     "height": 451
    },
    "colab_type": "code",
    "id": "J2XpcMjgXc6b",
    "outputId": "e68a8138-b89e-4b32-e587-43623343872b"
   },
   "outputs": [
    {
     "name": "stdout",
     "output_type": "stream",
     "text": [
      "Epoch :  1 \t loss : tensor(0.5396, device='cuda:0', grad_fn=<NllLossBackward>)\n",
      "Epoch :  3 \t loss : tensor(0.3830, device='cuda:0', grad_fn=<NllLossBackward>)\n",
      "Epoch :  5 \t loss : tensor(0.2961, device='cuda:0', grad_fn=<NllLossBackward>)\n",
      "Epoch :  7 \t loss : tensor(0.2304, device='cuda:0', grad_fn=<NllLossBackward>)\n",
      "Epoch :  9 \t loss : tensor(0.1803, device='cuda:0', grad_fn=<NllLossBackward>)\n",
      "Epoch :  11 \t loss : tensor(0.1448, device='cuda:0', grad_fn=<NllLossBackward>)\n",
      "Epoch :  13 \t loss : tensor(0.1214, device='cuda:0', grad_fn=<NllLossBackward>)\n",
      "Epoch :  15 \t loss : tensor(0.0999, device='cuda:0', grad_fn=<NllLossBackward>)\n",
      "Epoch :  17 \t loss : tensor(0.0857, device='cuda:0', grad_fn=<NllLossBackward>)\n",
      "Epoch :  19 \t loss : tensor(0.0736, device='cuda:0', grad_fn=<NllLossBackward>)\n",
      "Epoch :  21 \t loss : tensor(0.0597, device='cuda:0', grad_fn=<NllLossBackward>)\n",
      "Epoch :  23 \t loss : tensor(0.0568, device='cuda:0', grad_fn=<NllLossBackward>)\n",
      "Epoch :  25 \t loss : tensor(0.0492, device='cuda:0', grad_fn=<NllLossBackward>)\n",
      "Epoch :  27 \t loss : tensor(0.0443, device='cuda:0', grad_fn=<NllLossBackward>)\n",
      "Epoch :  29 \t loss : tensor(0.0378, device='cuda:0', grad_fn=<NllLossBackward>)\n",
      "Epoch :  31 \t loss : tensor(0.0333, device='cuda:0', grad_fn=<NllLossBackward>)\n",
      "Epoch :  33 \t loss : tensor(0.0318, device='cuda:0', grad_fn=<NllLossBackward>)\n",
      "Epoch :  35 \t loss : tensor(0.0274, device='cuda:0', grad_fn=<NllLossBackward>)\n",
      "Epoch :  37 \t loss : tensor(0.0270, device='cuda:0', grad_fn=<NllLossBackward>)\n",
      "Epoch :  39 \t loss : tensor(0.0255, device='cuda:0', grad_fn=<NllLossBackward>)\n",
      "Epoch :  41 \t loss : tensor(0.0220, device='cuda:0', grad_fn=<NllLossBackward>)\n",
      "Epoch :  43 \t loss : tensor(0.0204, device='cuda:0', grad_fn=<NllLossBackward>)\n",
      "Epoch :  45 \t loss : tensor(0.0191, device='cuda:0', grad_fn=<NllLossBackward>)\n",
      "Epoch :  47 \t loss : tensor(0.0188, device='cuda:0', grad_fn=<NllLossBackward>)\n",
      "Epoch :  49 \t loss : tensor(0.0169, device='cuda:0', grad_fn=<NllLossBackward>)\n"
     ]
    }
   ],
   "source": [
    "# defining the number of epochs\n",
    "n_epochs = 50\n",
    "\n",
    "# empty list to store training losses\n",
    "train_losses = []\n",
    "\n",
    "# empty list to store validation losses\n",
    "val_losses = []\n",
    "\n",
    "# training the model\n",
    "for epoch in range(n_epochs):\n",
    "    train(epoch)"
   ]
  },
  {
   "cell_type": "code",
   "execution_count": 0,
   "metadata": {
    "colab": {},
    "colab_type": "code",
    "id": "MF2r0edbR7Y4"
   },
   "outputs": [],
   "source": [
    "# val_losses=[0.,2.5364e-09,1.0145e-08,1.2682e-08,7.6091e-09,4.0582e-08,5.0727e-09,5.0727e-09,2.5364e-09,7.6091e-09,4.5655e-08,7.6091e-09,1.5979e-07,2.5364e-08,2.5364e-09,5.0727e-08,2.5364e-09,0.,5.0727e-09,2.5364e-09,1.6740e-07,1.2682e-08,5.0727e-09,5.0727e-09,0.]\n",
    "# train_losses=[0.,0.,0.,0.,0.,0.,0.,0.,0.,0.,0.,0.,0.,0.,0.,0.,0.,0.,0.,0.,6.3409e-10,0.,6.3409e-10,6.3409e-10,0.]"
   ]
  },
  {
   "cell_type": "markdown",
   "metadata": {
    "colab_type": "text",
    "id": "lZZobU4_Kw1a"
   },
   "source": [
    "## **Prediction**"
   ]
  },
  {
   "cell_type": "code",
   "execution_count": 0,
   "metadata": {
    "colab": {
     "base_uri": "https://localhost:8080/",
     "height": 35
    },
    "colab_type": "code",
    "id": "1mXkRqmzQ-3l",
    "outputId": "86694917-89e3-47a8-8f81-50516af71ba6"
   },
   "outputs": [
    {
     "data": {
      "text/plain": [
       "0.574468085106383"
      ]
     },
     "execution_count": 209,
     "metadata": {
      "tags": []
     },
     "output_type": "execute_result"
    }
   ],
   "source": [
    "# prediction for validation set\n",
    "with torch.no_grad():\n",
    "    softmax = model(val_x.cuda())\n",
    "    softmax=softmax.cpu()\n",
    "prob = list(softmax.numpy())\n",
    "predictions = np.argmax(prob, axis=1)\n",
    "accuracy_score(val_y, predictions)"
   ]
  }
 ],
 "metadata": {
  "accelerator": "GPU",
  "colab": {
   "collapsed_sections": [],
   "name": "CNN.ipynb",
   "provenance": []
  },
  "kernelspec": {
   "display_name": "Python 3",
   "language": "python",
   "name": "python3"
  },
  "language_info": {
   "codemirror_mode": {
    "name": "ipython",
    "version": 3
   },
   "file_extension": ".py",
   "mimetype": "text/x-python",
   "name": "python",
   "nbconvert_exporter": "python",
   "pygments_lexer": "ipython3",
   "version": "3.6.8"
  }
 },
 "nbformat": 4,
 "nbformat_minor": 1
}
